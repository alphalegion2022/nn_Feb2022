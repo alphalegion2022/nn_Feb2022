{
  "nbformat": 4,
  "nbformat_minor": 0,
  "metadata": {
    "colab": {
      "name": "Binder-test.ipynb",
      "provenance": [],
      "collapsed_sections": []
    },
    "kernelspec": {
      "name": "python3",
      "display_name": "Python 3"
    },
    "language_info": {
      "name": "python"
    }
  },
  "cells": [
    {
      "cell_type": "markdown",
      "source": [
        "Thanks be to https://butchland.github.io/butchland-machine-learning-notes/machine%20learning/2020/10/05/byoic-on-colab-part2.html for the guide"
      ],
      "metadata": {
        "id": "iJjhASQZjtsD"
      }
    },
    {
      "cell_type": "code",
      "execution_count": null,
      "metadata": {
        "id": "ep3sRheodvCe"
      },
      "outputs": [],
      "source": [
        "from fastai.vision.all import *\n",
        "from ipywidgets import widgets\n",
        "from fastai.vision.widgets import *\n",
        "\n",
        "path = Path()\n",
        "\n",
        "learner_inf = load_learner(path/'export.pki')\n",
        "\n",
        "for category in learn_inf.dls.vocab:\n",
        "    print(category)\n",
        "\n",
        "btn_upload = SimpleNamespace(data = ['Yogi_Bear_Yogi_Bear.png'])\n",
        "\n",
        "img = PILImage.create(btn_upload.data[-1])\n",
        "\n",
        "out_pl = widgets.Output()\n",
        "out_pl.clear_output()\n",
        "with out_pl: display(img.to_thumb(200,200))\n",
        "# out_pl\n",
        "\n",
        "pred,pred_idx,probs = learn_inf.predict(img)\n",
        "\n",
        "lbl_pred = widgets.Label()\n",
        "lbl_pred.value = f'Prediction: {pred}; Probability: {probs[pred_idx]:.04f}'\n",
        "# lbl_pred\n",
        "\n",
        "btn_run = widgets.Button(description='Classify')\n",
        "# btn_run\n",
        "\n",
        "def on_click_classify(change):\n",
        "    img = PILImage.create(btn_upload.data[-1])\n",
        "    out_pl.clear_output()\n",
        "    with out_pl: display(img.to_thumb(128,128))\n",
        "    pred,pred_idx,probs = learn_inf.predict(img)\n",
        "    lbl_pred.value = f'Prediction: {pred}; Probability: {probs[pred_idx]:.04f}'\n",
        "\n",
        "btn_run.on_click(on_click_classify)\n",
        "\n",
        "#hide\n",
        "#Putting back btn_upload to a widget for next cell\n",
        "btn_upload = widgets.FileUpload()\n",
        "\n",
        "VBox([widgets.Label('UPLOAD AND CLASSIFY AN IMAGE!'), \n",
        "      btn_upload, btn_run, out_pl, lbl_pred])\n"
      ]
    }
  ]
}